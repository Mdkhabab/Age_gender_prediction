{
 "cells": [
  {
   "cell_type": "code",
   "execution_count": 2,
   "metadata": {
    "execution": {
     "iopub.execute_input": "2022-06-07T06:59:27.893257Z",
     "iopub.status.busy": "2022-06-07T06:59:27.892700Z",
     "iopub.status.idle": "2022-06-07T06:59:28.050467Z",
     "shell.execute_reply": "2022-06-07T06:59:28.049678Z",
     "shell.execute_reply.started": "2022-06-07T06:59:27.893219Z"
    }
   },
   "outputs": [],
   "source": [
    "#import all required library \n",
    "import os\n",
    "import cv2\n",
    "import numpy as np\n",
    "import pandas as pd\n",
    "from tqdm import tqdm\n",
    "import matplotlib.pyplot as plt"
   ]
  },
  {
   "cell_type": "code",
   "execution_count": 3,
   "metadata": {
    "execution": {
     "iopub.execute_input": "2022-06-07T06:59:28.053004Z",
     "iopub.status.busy": "2022-06-07T06:59:28.052665Z",
     "iopub.status.idle": "2022-06-07T06:59:28.679218Z",
     "shell.execute_reply": "2022-06-07T06:59:28.678423Z",
     "shell.execute_reply.started": "2022-06-07T06:59:28.052968Z"
    }
   },
   "outputs": [],
   "source": [
    "# list of files in dataset\n",
    "files=os.listdir(\"../input/utkface-new/UTKFace/\")\n",
    "files[:5]"
   ]
  },
  {
   "cell_type": "code",
   "execution_count": 4,
   "metadata": {
    "execution": {
     "iopub.execute_input": "2022-06-07T06:59:28.680984Z",
     "iopub.status.busy": "2022-06-07T06:59:28.680731Z",
     "iopub.status.idle": "2022-06-07T07:02:09.646704Z",
     "shell.execute_reply": "2022-06-07T07:02:09.645819Z",
     "shell.execute_reply.started": "2022-06-07T06:59:28.680958Z"
    }
   },
   "outputs": [],
   "source": [
    "#create an empty array to store image, labels\n",
    "age_array=[]\n",
    "gender_array=[]  # will convert list to array \n",
    "file_path=[]\n",
    "file_name=[]\n",
    "labels=[]\n",
    "image_array=[]\n",
    "path=\"../input/utkface-new/UTKFace/\"\n",
    "\n",
    "#loop through each files\n",
    "for i in tqdm(range(len(files))):\n",
    "    age=int(files[i].split(\"_\")[0])\n",
    "    # if we split filename with \"_\"\n",
    "    # 0 position will be age\n",
    "    # 1 positio will be gender\n",
    "    gender=int(files[i].split(\"_\")[1])\n",
    "    # 0 : Male\n",
    "    # 1: Female\n",
    "    if(age<=100):\n",
    "        # remove dateset for age group above 100\n",
    "        # If you want me to train for imbalance class comment below(above 100)\n",
    "        age_array.append(age)\n",
    "        gender_array.append(gender)\n",
    "        file_path.append(path+files[i])\n",
    "        labels.append([[age],[gender]])\n",
    "        # read image \n",
    "        image=cv2.imread(path+files[i])\n",
    "        # resize image (96,96) \n",
    "        # original size is (200,200)\n",
    "        # for training on (200,200) we required more ram memory \n",
    "        # so we go with (96,96)\n",
    "        # resize image\n",
    "        image=cv2.resize(image,(96,96))\n",
    "        # conver image from BGR to RGB\n",
    "        image=cv2.cvtColor(image,cv2.COLOR_BGR2RGB)\n",
    "        image_array.append(image)\n",
    "        \n",
    "        # it will take time \n",
    "    "
   ]
  },
  {
   "cell_type": "code",
   "execution_count": 5,
   "metadata": {
    "execution": {
     "iopub.execute_input": "2022-06-07T07:02:09.648531Z",
     "iopub.status.busy": "2022-06-07T07:02:09.648034Z",
     "iopub.status.idle": "2022-06-07T07:02:09.651643Z",
     "shell.execute_reply": "2022-06-07T07:02:09.650837Z",
     "shell.execute_reply.started": "2022-06-07T07:02:09.648491Z"
    }
   },
   "outputs": [],
   "source": [
    "#you can skip 2 min\n",
    "#check your code once agian"
   ]
  },
  {
   "cell_type": "code",
   "execution_count": 6,
   "metadata": {
    "execution": {
     "iopub.execute_input": "2022-06-07T07:02:09.653281Z",
     "iopub.status.busy": "2022-06-07T07:02:09.652791Z",
     "iopub.status.idle": "2022-06-07T07:02:09.669935Z",
     "shell.execute_reply": "2022-06-07T07:02:09.669066Z",
     "shell.execute_reply.started": "2022-06-07T07:02:09.653243Z"
    }
   },
   "outputs": [],
   "source": [
    "a,b=np.unique(age_array,return_counts=\"True\")"
   ]
  },
  {
   "cell_type": "code",
   "execution_count": 7,
   "metadata": {
    "execution": {
     "iopub.execute_input": "2022-06-07T07:02:09.671454Z",
     "iopub.status.busy": "2022-06-07T07:02:09.671078Z",
     "iopub.status.idle": "2022-06-07T07:02:09.678093Z",
     "shell.execute_reply": "2022-06-07T07:02:09.677003Z",
     "shell.execute_reply.started": "2022-06-07T07:02:09.671419Z"
    }
   },
   "outputs": [],
   "source": [
    "a # we have age group from 1-116\n",
    "# but some age group are missing\n"
   ]
  },
  {
   "cell_type": "code",
   "execution_count": 8,
   "metadata": {
    "execution": {
     "iopub.execute_input": "2022-06-07T07:02:09.680266Z",
     "iopub.status.busy": "2022-06-07T07:02:09.679466Z",
     "iopub.status.idle": "2022-06-07T07:02:09.686183Z",
     "shell.execute_reply": "2022-06-07T07:02:09.685203Z",
     "shell.execute_reply.started": "2022-06-07T07:02:09.680230Z"
    }
   },
   "outputs": [],
   "source": [
    "b\n",
    "# total number of image for each age group\n",
    "# but age group above 100 have less number of image\n",
    "# if we have imbalance class it will give less accuracy \n",
    "# so to get higher accuray we will remove age group above 100"
   ]
  },
  {
   "cell_type": "code",
   "execution_count": 9,
   "metadata": {
    "execution": {
     "iopub.execute_input": "2022-06-07T07:02:09.690278Z",
     "iopub.status.busy": "2022-06-07T07:02:09.689573Z",
     "iopub.status.idle": "2022-06-07T07:02:11.505911Z",
     "shell.execute_reply": "2022-06-07T07:02:11.504993Z",
     "shell.execute_reply.started": "2022-06-07T07:02:09.690237Z"
    }
   },
   "outputs": [],
   "source": [
    "# conver image list to array\n",
    "# divie each image by 255 to scale image from 0-255 to 0-1\n",
    "image_array=np.array(image_array)/255.0\n",
    "\n"
   ]
  },
  {
   "cell_type": "code",
   "execution_count": 10,
   "metadata": {
    "execution": {
     "iopub.execute_input": "2022-06-07T07:02:11.511629Z",
     "iopub.status.busy": "2022-06-07T07:02:11.511067Z",
     "iopub.status.idle": "2022-06-07T07:02:11.602224Z",
     "shell.execute_reply": "2022-06-07T07:02:11.601278Z",
     "shell.execute_reply.started": "2022-06-07T07:02:11.511591Z"
    }
   },
   "outputs": [],
   "source": [
    "# convert label list to array\n",
    "labels=np.array(labels)"
   ]
  },
  {
   "cell_type": "code",
   "execution_count": 11,
   "metadata": {
    "execution": {
     "iopub.execute_input": "2022-06-07T07:02:11.603745Z",
     "iopub.status.busy": "2022-06-07T07:02:11.603380Z",
     "iopub.status.idle": "2022-06-07T07:02:14.491317Z",
     "shell.execute_reply": "2022-06-07T07:02:14.490439Z",
     "shell.execute_reply.started": "2022-06-07T07:02:11.603707Z"
    }
   },
   "outputs": [],
   "source": [
    "# split image and label for training and validation\n",
    "\n",
    "from sklearn.model_selection import train_test_split\n",
    "image_array,X_test,Y_train,Y_test=train_test_split(image_array,labels,test_size=0.2)\n",
    "# 20% is for validation\n",
    "# before running change name of X_train to image_array to save ram memory\n"
   ]
  },
  {
   "cell_type": "code",
   "execution_count": 12,
   "metadata": {
    "execution": {
     "iopub.execute_input": "2022-06-07T07:02:14.492979Z",
     "iopub.status.busy": "2022-06-07T07:02:14.492627Z",
     "iopub.status.idle": "2022-06-07T07:02:14.499231Z",
     "shell.execute_reply": "2022-06-07T07:02:14.496306Z",
     "shell.execute_reply.started": "2022-06-07T07:02:14.492943Z"
    }
   },
   "outputs": [],
   "source": [
    "# small error \n",
    "# make sure everything is ok \n",
    "# restart code "
   ]
  },
  {
   "cell_type": "code",
   "execution_count": 13,
   "metadata": {
    "execution": {
     "iopub.execute_input": "2022-06-07T07:02:14.500690Z",
     "iopub.status.busy": "2022-06-07T07:02:14.500380Z",
     "iopub.status.idle": "2022-06-07T07:02:14.508492Z",
     "shell.execute_reply": "2022-06-07T07:02:14.507616Z",
     "shell.execute_reply.started": "2022-06-07T07:02:14.500663Z"
    }
   },
   "outputs": [],
   "source": [
    "# split age and gender in labels\n",
    "Y_train_split=[Y_train[:,1],Y_train[:,0]]\n",
    "Y_test_split=[Y_test[:,1],Y_test[:,0]]"
   ]
  },
  {
   "cell_type": "code",
   "execution_count": 14,
   "metadata": {
    "execution": {
     "iopub.execute_input": "2022-06-07T07:02:14.510385Z",
     "iopub.status.busy": "2022-06-07T07:02:14.510020Z",
     "iopub.status.idle": "2022-06-07T07:02:14.518947Z",
     "shell.execute_reply": "2022-06-07T07:02:14.518186Z",
     "shell.execute_reply.started": "2022-06-07T07:02:14.510349Z"
    }
   },
   "outputs": [],
   "source": [
    "Y_train_split\n",
    "# age and gender are in different array\n"
   ]
  },
  {
   "cell_type": "code",
   "execution_count": 15,
   "metadata": {
    "execution": {
     "iopub.execute_input": "2022-06-07T07:02:14.520806Z",
     "iopub.status.busy": "2022-06-07T07:02:14.520399Z",
     "iopub.status.idle": "2022-06-07T07:02:19.216782Z",
     "shell.execute_reply": "2022-06-07T07:02:19.215910Z",
     "shell.execute_reply.started": "2022-06-07T07:02:14.520770Z"
    }
   },
   "outputs": [],
   "source": [
    "# import all tensorflow keras library\n",
    "from tensorflow.keras.layers import (\n",
    "    Input,\n",
    "    Conv2D, \n",
    "    MaxPool2D, \n",
    "    Dense, \n",
    "    BatchNormalization, \n",
    "    ReLU, \n",
    "    Dropout, \n",
    "    Flatten,\n",
    "    Dropout,\n",
    "    Concatenate,\n",
    "    GlobalAvgPool2D\n",
    ")\n",
    "\n",
    "from tensorflow.keras.regularizers import L2\n",
    "import tensorflow as tf"
   ]
  },
  {
   "cell_type": "code",
   "execution_count": 16,
   "metadata": {
    "execution": {
     "iopub.execute_input": "2022-06-07T07:02:19.218388Z",
     "iopub.status.busy": "2022-06-07T07:02:19.218066Z",
     "iopub.status.idle": "2022-06-07T07:02:19.225103Z",
     "shell.execute_reply": "2022-06-07T07:02:19.224327Z",
     "shell.execute_reply.started": "2022-06-07T07:02:19.218352Z"
    }
   },
   "outputs": [],
   "source": [
    "# create a new CNN model\n",
    "\n",
    "# first define basic inception model layer\n",
    "def inception_module(inputs,f1,f2):\n",
    "    # define convolution  2d layer\n",
    "    x1=Conv2D(f1,3,padding=\"same\")(inputs)\n",
    "    x1=BatchNormalization()(x1)\n",
    "    x1=ReLU()(x1)\n",
    "    \n",
    "    x2=Conv2D(f2,5,padding=\"same\")(inputs)\n",
    "    x2=BatchNormalization()(x2)\n",
    "    x2=ReLU()(x2)\n",
    "    \n",
    "    #combine x1 and x2 \n",
    "    return Concatenate()([x1,x2])"
   ]
  },
  {
   "cell_type": "code",
   "execution_count": 17,
   "metadata": {
    "execution": {
     "iopub.execute_input": "2022-06-07T07:02:19.226970Z",
     "iopub.status.busy": "2022-06-07T07:02:19.226298Z",
     "iopub.status.idle": "2022-06-07T07:02:19.239160Z",
     "shell.execute_reply": "2022-06-07T07:02:19.238365Z",
     "shell.execute_reply.started": "2022-06-07T07:02:19.226928Z"
    }
   },
   "outputs": [],
   "source": [
    "# define model\n",
    "def build_model():\n",
    "    #            image size \n",
    "    inputs=Input((96,96,3))\n",
    "    # apply inception layer\n",
    "    x=inception_module(inputs,64,32)\n",
    "    # apply Max pool layer\n",
    "    x=MaxPool2D()(x)\n",
    "    # change input and f1,f2\n",
    "    x=inception_module(x,64,32)\n",
    "    x=MaxPool2D()(x)\n",
    "    x=inception_module(x,128,32)\n",
    "    x=MaxPool2D()(x)\n",
    "    x=inception_module(x,128,32)\n",
    "    x=MaxPool2D()(x)\n",
    "    x=inception_module(x,256,64)\n",
    "    x=MaxPool2D()(x)\n",
    "    \n",
    "    # apply Flatten \n",
    "    x=Flatten()(x)\n",
    "    # now we will divide it for two group age and gender\n",
    "    \n",
    "    # for gender\n",
    "    dense_g=Dense(64,activation=\"relu\")(x)\n",
    "    # apply dropout to improve model from overfitting\n",
    "    drop_g=Dropout(0.3)(dense_g)\n",
    "    output_g=Dense(1,activation=\"sigmoid\",name=\"gender\")(drop_g)\n",
    "    # you can change Dense input, dropout or increase number of similar layer to\n",
    "    # improve gender accuracy\n",
    "    \n",
    "    # for age\n",
    "    x=Dense(1024,kernel_regularizer=L2(l2=0.05))(x)\n",
    "    x=BatchNormalization()(x)\n",
    "    x=ReLU()(x)\n",
    "    x=Dense(512,kernel_regularizer=L2(l2=0.02))(x)\n",
    "    x=BatchNormalization()(x)\n",
    "    x=ReLU()(x)\n",
    "    x=Dense(128,kernel_regularizer=L2(l2=0.01))(x)\n",
    "    x=BatchNormalization()(x)\n",
    "    x=ReLU()(x)\n",
    "    \n",
    "    x=Dense(1)(x)\n",
    "    \n",
    "    # define model input and output\n",
    "    model=tf.keras.Model(inputs=[inputs],outputs=[output_g,x])\n",
    "    return model\n",
    "    "
   ]
  },
  {
   "cell_type": "code",
   "execution_count": 18,
   "metadata": {
    "execution": {
     "iopub.execute_input": "2022-06-07T07:02:19.241935Z",
     "iopub.status.busy": "2022-06-07T07:02:19.241270Z",
     "iopub.status.idle": "2022-06-07T07:02:21.507461Z",
     "shell.execute_reply": "2022-06-07T07:02:21.506559Z",
     "shell.execute_reply.started": "2022-06-07T07:02:19.241887Z"
    }
   },
   "outputs": [],
   "source": [
    "model=build_model()\n",
    "model.summary()"
   ]
  },
  {
   "cell_type": "code",
   "execution_count": null,
   "metadata": {},
   "outputs": [],
   "source": []
  },
  {
   "cell_type": "code",
   "execution_count": 19,
   "metadata": {
    "execution": {
     "iopub.execute_input": "2022-06-07T07:02:21.509171Z",
     "iopub.status.busy": "2022-06-07T07:02:21.508842Z",
     "iopub.status.idle": "2022-06-07T07:02:21.513323Z",
     "shell.execute_reply": "2022-06-07T07:02:21.512248Z",
     "shell.execute_reply.started": "2022-06-07T07:02:21.509134Z"
    }
   },
   "outputs": [],
   "source": [
    "# small change"
   ]
  },
  {
   "cell_type": "code",
   "execution_count": 20,
   "metadata": {
    "execution": {
     "iopub.execute_input": "2022-06-07T07:02:21.514975Z",
     "iopub.status.busy": "2022-06-07T07:02:21.514644Z",
     "iopub.status.idle": "2022-06-07T07:02:21.533898Z",
     "shell.execute_reply": "2022-06-07T07:02:21.532982Z",
     "shell.execute_reply.started": "2022-06-07T07:02:21.514939Z"
    }
   },
   "outputs": [],
   "source": [
    "# compile model\n",
    "model.compile(optimizer=\"adam\",loss=[\"binary_crossentropy\",\"mean_squared_error\"],metrics=[\"mae\"])\n",
    "# binary_crossentropy is for gender \n",
    "# mean_squared_error is for age\n",
    "# you can change optimizer, loss and metrics for betrer accuracy \n"
   ]
  },
  {
   "cell_type": "code",
   "execution_count": 21,
   "metadata": {
    "execution": {
     "iopub.execute_input": "2022-06-07T07:02:21.535967Z",
     "iopub.status.busy": "2022-06-07T07:02:21.535444Z",
     "iopub.status.idle": "2022-06-07T07:02:21.542959Z",
     "shell.execute_reply": "2022-06-07T07:02:21.542119Z",
     "shell.execute_reply.started": "2022-06-07T07:02:21.535927Z"
    }
   },
   "outputs": [],
   "source": [
    "# create model checkpoint to save model \n",
    "ckp_path=\"trained_model/model\"\n",
    "model_checkpoint=tf.keras.callbacks.ModelCheckpoint(filepath=ckp_path,\n",
    "                                                   monitor=\"val_dense_4_mae\",\n",
    "                                                   save_best_only=True,\n",
    "                                                   save_weights_only=True,\n",
    "                                                   mode=\"auto\")\n",
    "# we will monitor output dense for age as age accuracy is important than gender\n",
    "# mode is check for minimum or maximum or auto \n",
    "# here check for minimum value of val_dense_4_mae\n"
   ]
  },
  {
   "cell_type": "code",
   "execution_count": 22,
   "metadata": {
    "execution": {
     "iopub.execute_input": "2022-06-07T07:02:21.546442Z",
     "iopub.status.busy": "2022-06-07T07:02:21.546159Z",
     "iopub.status.idle": "2022-06-07T07:02:21.551878Z",
     "shell.execute_reply": "2022-06-07T07:02:21.550934Z",
     "shell.execute_reply.started": "2022-06-07T07:02:21.546417Z"
    }
   },
   "outputs": [],
   "source": [
    "# Create learning rate reducer\n",
    "reduce_lr=tf.keras.callbacks.ReduceLROnPlateau(factor=0.9,\n",
    "                                              monitor=\"val_dense_4_mae\",\n",
    "                                              mode=\"auto\",\n",
    "                                              cooldown=0,\n",
    "                                              patience=5,\n",
    "                                              varbose=1,\n",
    "                                              min_lr=1e-5)\n",
    "\n",
    "# monitor: check for minimum value of val_dense_4_mae\n",
    "#patience:  if it not decrease in 5 epoch reduce lr\n",
    "#vervose: show val_dense_4_mae every epoch\n",
    "# minimum learning rate is 1x10-5"
   ]
  },
  {
   "cell_type": "code",
   "execution_count": 23,
   "metadata": {
    "execution": {
     "iopub.execute_input": "2022-06-07T07:02:21.553601Z",
     "iopub.status.busy": "2022-06-07T07:02:21.553063Z",
     "iopub.status.idle": "2022-06-07T07:02:21.563165Z",
     "shell.execute_reply": "2022-06-07T07:02:21.562341Z",
     "shell.execute_reply.started": "2022-06-07T07:02:21.553563Z"
    }
   },
   "outputs": [],
   "source": [
    "Y_test_split"
   ]
  },
  {
   "cell_type": "code",
   "execution_count": 24,
   "metadata": {
    "execution": {
     "iopub.execute_input": "2022-06-07T07:02:21.566565Z",
     "iopub.status.busy": "2022-06-07T07:02:21.566101Z",
     "iopub.status.idle": "2022-06-07T08:08:37.455931Z",
     "shell.execute_reply": "2022-06-07T08:08:37.454937Z",
     "shell.execute_reply.started": "2022-06-07T07:02:21.566536Z"
    }
   },
   "outputs": [],
   "source": [
    "# train\n",
    "EPOCHS=300\n",
    "BATCH_SIZE=256\n",
    "history=model.fit(image_array,Y_train_split,\n",
    "                 validation_data=(X_test,Y_test_split),\n",
    "                 batch_size=BATCH_SIZE,\n",
    "                 epochs=EPOCHS,\n",
    "                 callbacks=[model_checkpoint,reduce_lr])"
   ]
  },
  {
   "cell_type": "code",
   "execution_count": 25,
   "metadata": {
    "execution": {
     "iopub.execute_input": "2022-06-07T08:08:37.457837Z",
     "iopub.status.busy": "2022-06-07T08:08:37.457491Z",
     "iopub.status.idle": "2022-06-07T08:08:37.461382Z",
     "shell.execute_reply": "2022-06-07T08:08:37.460568Z",
     "shell.execute_reply.started": "2022-06-07T08:08:37.457794Z"
    }
   },
   "outputs": [],
   "source": [
    "# val_dense_4_mae: 31.2090 we have to reduce it \n",
    "# you can change number of things to imporve accuracy\n",
    "# 1. more data\n",
    "# 2. good model\n",
    "# 3. applying: horizonal flip,vertical flip , rotation, change, brightness, etc.\n",
    "# 4. loss and optimizer"
   ]
  },
  {
   "cell_type": "code",
   "execution_count": 26,
   "metadata": {
    "execution": {
     "iopub.execute_input": "2022-06-07T08:08:37.466287Z",
     "iopub.status.busy": "2022-06-07T08:08:37.465781Z",
     "iopub.status.idle": "2022-06-07T08:08:37.471998Z",
     "shell.execute_reply": "2022-06-07T08:08:37.471150Z",
     "shell.execute_reply.started": "2022-06-07T08:08:37.466248Z"
    }
   },
   "outputs": [],
   "source": [
    "# training will take time  "
   ]
  },
  {
   "cell_type": "code",
   "execution_count": 27,
   "metadata": {
    "execution": {
     "iopub.execute_input": "2022-06-07T08:08:37.475098Z",
     "iopub.status.busy": "2022-06-07T08:08:37.474564Z",
     "iopub.status.idle": "2022-06-07T08:08:37.718173Z",
     "shell.execute_reply": "2022-06-07T08:08:37.717371Z",
     "shell.execute_reply.started": "2022-06-07T08:08:37.475061Z"
    }
   },
   "outputs": [],
   "source": [
    "# after the training is over\n",
    "model.load_weights(\"trained_model/model\")\n",
    "# load best weight "
   ]
  },
  {
   "cell_type": "code",
   "execution_count": 28,
   "metadata": {
    "execution": {
     "iopub.execute_input": "2022-06-07T08:08:37.719796Z",
     "iopub.status.busy": "2022-06-07T08:08:37.719450Z",
     "iopub.status.idle": "2022-06-07T08:08:39.886009Z",
     "shell.execute_reply": "2022-06-07T08:08:39.885110Z",
     "shell.execute_reply.started": "2022-06-07T08:08:37.719759Z"
    }
   },
   "outputs": [],
   "source": [
    "# test if it is working \n",
    "prediction_val=model.predict(X_test,batch_size=BATCH_SIZE)"
   ]
  },
  {
   "cell_type": "code",
   "execution_count": 29,
   "metadata": {
    "execution": {
     "iopub.execute_input": "2022-06-07T08:08:39.887876Z",
     "iopub.status.busy": "2022-06-07T08:08:39.887528Z",
     "iopub.status.idle": "2022-06-07T08:08:39.894470Z",
     "shell.execute_reply": "2022-06-07T08:08:39.893330Z",
     "shell.execute_reply.started": "2022-06-07T08:08:39.887839Z"
    }
   },
   "outputs": [],
   "source": [
    "# gender prediction value \n",
    "prediction_val[0][:20]"
   ]
  },
  {
   "cell_type": "code",
   "execution_count": 30,
   "metadata": {
    "execution": {
     "iopub.execute_input": "2022-06-07T08:08:39.896804Z",
     "iopub.status.busy": "2022-06-07T08:08:39.896188Z",
     "iopub.status.idle": "2022-06-07T08:08:39.908361Z",
     "shell.execute_reply": "2022-06-07T08:08:39.907531Z",
     "shell.execute_reply.started": "2022-06-07T08:08:39.896767Z"
    }
   },
   "outputs": [],
   "source": [
    "# original value\n",
    "Y_test_split[0][:20]"
   ]
  },
  {
   "cell_type": "code",
   "execution_count": 31,
   "metadata": {
    "execution": {
     "iopub.execute_input": "2022-06-07T08:08:39.910229Z",
     "iopub.status.busy": "2022-06-07T08:08:39.909835Z",
     "iopub.status.idle": "2022-06-07T08:08:39.918048Z",
     "shell.execute_reply": "2022-06-07T08:08:39.916728Z",
     "shell.execute_reply.started": "2022-06-07T08:08:39.910193Z"
    }
   },
   "outputs": [],
   "source": [
    "# age prediction value\n",
    "prediction_val[1][:20]\n"
   ]
  },
  {
   "cell_type": "code",
   "execution_count": 32,
   "metadata": {
    "execution": {
     "iopub.execute_input": "2022-06-07T08:08:39.920429Z",
     "iopub.status.busy": "2022-06-07T08:08:39.919864Z",
     "iopub.status.idle": "2022-06-07T08:08:39.926302Z",
     "shell.execute_reply": "2022-06-07T08:08:39.925446Z",
     "shell.execute_reply.started": "2022-06-07T08:08:39.920384Z"
    }
   },
   "outputs": [],
   "source": [
    "# original age value\n",
    "Y_test_split[1][:20]"
   ]
  },
  {
   "cell_type": "code",
   "execution_count": 34,
   "metadata": {
    "execution": {
     "iopub.execute_input": "2022-06-07T08:08:48.429470Z",
     "iopub.status.busy": "2022-06-07T08:08:48.429141Z",
     "iopub.status.idle": "2022-06-07T08:08:48.433631Z",
     "shell.execute_reply": "2022-06-07T08:08:48.432671Z",
     "shell.execute_reply.started": "2022-06-07T08:08:48.429434Z"
    }
   },
   "outputs": [],
   "source": [
    "#  small change in saving weight\n",
    "# save version"
   ]
  },
  {
   "cell_type": "code",
   "execution_count": 35,
   "metadata": {
    "execution": {
     "iopub.execute_input": "2022-06-07T08:16:07.249178Z",
     "iopub.status.busy": "2022-06-07T08:16:07.248834Z",
     "iopub.status.idle": "2022-06-07T08:16:07.490648Z",
     "shell.execute_reply": "2022-06-07T08:16:07.489765Z",
     "shell.execute_reply.started": "2022-06-07T08:16:07.249148Z"
    }
   },
   "outputs": [],
   "source": [
    "model.save('model.h5')"
   ]
  }
 ],
 "metadata": {
  "kernelspec": {
   "display_name": "Python 3",
   "language": "python",
   "name": "python3"
  },
  "language_info": {
   "codemirror_mode": {
    "name": "ipython",
    "version": 3
   },
   "file_extension": ".py",
   "mimetype": "text/x-python",
   "name": "python",
   "nbconvert_exporter": "python",
   "pygments_lexer": "ipython3",
   "version": "3.7.0"
  }
 },
 "nbformat": 4,
 "nbformat_minor": 4
}
