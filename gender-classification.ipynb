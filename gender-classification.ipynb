{
 "cells": [
  {
   "cell_type": "code",
   "execution_count": 1,
   "metadata": {
    "_cell_guid": "b1076dfc-b9ad-4769-8c92-a6c4dae69d19",
    "_uuid": "8f2839f25d086af736a60e9eeb907d3b93b6e0e5",
    "execution": {
     "iopub.execute_input": "2022-06-07T10:32:33.539094Z",
     "iopub.status.busy": "2022-06-07T10:32:33.538605Z",
     "iopub.status.idle": "2022-06-07T10:32:33.547010Z",
     "shell.execute_reply": "2022-06-07T10:32:33.545740Z",
     "shell.execute_reply.started": "2022-06-07T10:32:33.539042Z"
    }
   },
   "outputs": [],
   "source": [
    "import os\n",
    "train_dir = '../input/genderdetectionface/dataset1/train'\n",
    "validation_dir ='../input/genderdetectionface/dataset1/test'\n",
    "# Directory with our training cat pictures\n",
    "train_man_dir = os.path.join(train_dir, 'man')\n",
    "\n",
    "# Directory with our training dog pictures\n",
    "train_woman_dir = os.path.join(train_dir, 'woman')\n",
    "\n",
    "# Directory with our validation cat pictures\n",
    "validation_man_dir = os.path.join(validation_dir, 'man')\n",
    "\n",
    "# Directory with our validation dog pictures\n",
    "validation_woman_dir = os.path.join(validation_dir, 'woman')\n"
   ]
  },
  {
   "cell_type": "code",
   "execution_count": 2,
   "metadata": {
    "_cell_guid": "79c7e3d0-c299-4dcb-8224-4455121ee9b0",
    "_uuid": "d629ff2d2480ee46fbb7e2d37f6b5fab8052498a",
    "execution": {
     "iopub.execute_input": "2022-06-07T10:32:33.550398Z",
     "iopub.status.busy": "2022-06-07T10:32:33.549634Z",
     "iopub.status.idle": "2022-06-07T10:32:34.270117Z",
     "shell.execute_reply": "2022-06-07T10:32:34.269181Z",
     "shell.execute_reply.started": "2022-06-07T10:32:33.550333Z"
    }
   },
   "outputs": [],
   "source": [
    "train_cat_fnames = os.listdir(train_man_dir)\n",
    "print(train_cat_fnames[:10])\n",
    "\n",
    "train_dog_fnames = os.listdir(train_woman_dir)\n",
    "train_dog_fnames.sort()\n",
    "print(train_dog_fnames[:10])"
   ]
  },
  {
   "cell_type": "code",
   "execution_count": 3,
   "metadata": {
    "execution": {
     "iopub.execute_input": "2022-06-07T10:32:34.272491Z",
     "iopub.status.busy": "2022-06-07T10:32:34.271972Z",
     "iopub.status.idle": "2022-06-07T10:32:34.280864Z",
     "shell.execute_reply": "2022-06-07T10:32:34.279552Z",
     "shell.execute_reply.started": "2022-06-07T10:32:34.272433Z"
    }
   },
   "outputs": [],
   "source": [
    "\n",
    "%matplotlib inline\n",
    "import matplotlib.pyplot as plt\n",
    "import matplotlib.image as mpimg\n",
    "nrows = 4\n",
    "ncols = 4\n",
    "pic_index = 0"
   ]
  },
  {
   "cell_type": "code",
   "execution_count": 4,
   "metadata": {
    "execution": {
     "iopub.execute_input": "2022-06-07T10:32:34.283705Z",
     "iopub.status.busy": "2022-06-07T10:32:34.282759Z",
     "iopub.status.idle": "2022-06-07T10:32:35.710377Z",
     "shell.execute_reply": "2022-06-07T10:32:35.709524Z",
     "shell.execute_reply.started": "2022-06-07T10:32:34.283515Z"
    }
   },
   "outputs": [],
   "source": [
    "# Set up matplotlib fig, and size it to fit 4x4 pics\n",
    "fig = plt.gcf()\n",
    "fig.set_size_inches(ncols * 4, nrows * 4)\n",
    "\n",
    "pic_index += 8\n",
    "next_man_pix = [os.path.join(train_man_dir, fname) \n",
    "                for fname in train_cat_fnames[pic_index-8:pic_index]]\n",
    "next_woman_pix = [os.path.join(train_woman_dir, fname) \n",
    "                for fname in train_dog_fnames[pic_index-8:pic_index]]\n",
    "\n",
    "for i, img_path in enumerate(next_man_pix+next_woman_pix):\n",
    "  # Set up subplot; subplot indices start at 1\n",
    "  sp = plt.subplot(nrows, ncols, i + 1)\n",
    "  sp.axis('Off') # Don't show axes (or gridlines)\n",
    "  img = mpimg.imread(img_path)\n",
    "  plt.imshow(img)\n",
    "plt.show()\n"
   ]
  },
  {
   "cell_type": "code",
   "execution_count": 5,
   "metadata": {
    "execution": {
     "iopub.execute_input": "2022-06-07T10:32:35.713009Z",
     "iopub.status.busy": "2022-06-07T10:32:35.712674Z",
     "iopub.status.idle": "2022-06-07T10:32:35.717893Z",
     "shell.execute_reply": "2022-06-07T10:32:35.716809Z",
     "shell.execute_reply.started": "2022-06-07T10:32:35.712969Z"
    }
   },
   "outputs": [],
   "source": [
    "from tensorflow.keras import layers\n",
    "from tensorflow.keras import Model"
   ]
  },
  {
   "cell_type": "code",
   "execution_count": 6,
   "metadata": {
    "execution": {
     "iopub.execute_input": "2022-06-07T10:32:35.720317Z",
     "iopub.status.busy": "2022-06-07T10:32:35.719640Z",
     "iopub.status.idle": "2022-06-07T10:32:38.368325Z",
     "shell.execute_reply": "2022-06-07T10:32:38.367514Z",
     "shell.execute_reply.started": "2022-06-07T10:32:35.720273Z"
    }
   },
   "outputs": [],
   "source": [
    "\n",
    "# Our input feature map is 150x150x3: 150x150 for the image pixels, and 3 for\n",
    "# the three color channels: R, G, and B\n",
    "img_input = layers.Input(shape=(150, 150, 3))\n",
    "\n",
    "# First convolution extracts 16 filters that are 3x3\n",
    "# Convolution is followed by max-pooling layer with a 2x2 window\n",
    "x = layers.Conv2D(16, 3, activation='relu')(img_input)\n",
    "x = layers.MaxPooling2D(2)(x)\n",
    "\n",
    "# Second convolution extracts 32 filters that are 3x3\n",
    "# Convolution is followed by max-pooling layer with a 2x2 window\n",
    "x = layers.Conv2D(32, 3, activation='relu')(x)\n",
    "x = layers.MaxPooling2D(2)(x)\n",
    "\n",
    "# Third convolution extracts 64 filters that are 3x3\n",
    "# Convolution is followed by max-pooling layer with a 2x2 window\n",
    "x = layers.Conv2D(64, 3, activation='relu')(x)\n",
    "x = layers.MaxPooling2D(2)(x)"
   ]
  },
  {
   "cell_type": "code",
   "execution_count": 7,
   "metadata": {
    "execution": {
     "iopub.execute_input": "2022-06-07T10:32:38.370201Z",
     "iopub.status.busy": "2022-06-07T10:32:38.369823Z",
     "iopub.status.idle": "2022-06-07T10:32:38.408463Z",
     "shell.execute_reply": "2022-06-07T10:32:38.407634Z",
     "shell.execute_reply.started": "2022-06-07T10:32:38.370163Z"
    }
   },
   "outputs": [],
   "source": [
    "\n",
    "\n",
    "# Flatten feature map to a 1-dim tensor so we can add fully connected layers\n",
    "x = layers.Flatten()(x)\n",
    "\n",
    "# Create a fully connected layer with ReLU activation and 512 hidden units\n",
    "x = layers.Dense(512, activation='relu')(x)\n",
    "\n",
    "# Create output layer with a single node and sigmoid activation\n",
    "output = layers.Dense(1, activation='sigmoid')(x)\n",
    "\n",
    "# Create model:\n",
    "# input = input feature map\n",
    "# output = input feature map + stacked convolution/maxpooling layers + fully \n",
    "# connected layer + sigmoid output layer\n",
    "model = Model(img_input, output)"
   ]
  },
  {
   "cell_type": "code",
   "execution_count": 8,
   "metadata": {
    "execution": {
     "iopub.execute_input": "2022-06-07T10:32:38.412500Z",
     "iopub.status.busy": "2022-06-07T10:32:38.412165Z",
     "iopub.status.idle": "2022-06-07T10:32:38.425791Z",
     "shell.execute_reply": "2022-06-07T10:32:38.424523Z",
     "shell.execute_reply.started": "2022-06-07T10:32:38.412451Z"
    }
   },
   "outputs": [],
   "source": [
    "model.summary()"
   ]
  },
  {
   "cell_type": "code",
   "execution_count": 9,
   "metadata": {
    "execution": {
     "iopub.execute_input": "2022-06-07T10:32:38.429506Z",
     "iopub.status.busy": "2022-06-07T10:32:38.429170Z",
     "iopub.status.idle": "2022-06-07T10:32:38.448429Z",
     "shell.execute_reply": "2022-06-07T10:32:38.447059Z",
     "shell.execute_reply.started": "2022-06-07T10:32:38.429475Z"
    }
   },
   "outputs": [],
   "source": [
    "from tensorflow.keras.optimizers import RMSprop\n",
    "\n",
    "model.compile(loss='binary_crossentropy',\n",
    "              optimizer=RMSprop(lr=0.001),\n",
    "              metrics=['acc'])"
   ]
  },
  {
   "cell_type": "code",
   "execution_count": 10,
   "metadata": {
    "execution": {
     "iopub.execute_input": "2022-06-07T10:32:38.452070Z",
     "iopub.status.busy": "2022-06-07T10:32:38.451767Z",
     "iopub.status.idle": "2022-06-07T10:32:38.677370Z",
     "shell.execute_reply": "2022-06-07T10:32:38.676386Z",
     "shell.execute_reply.started": "2022-06-07T10:32:38.452039Z"
    }
   },
   "outputs": [],
   "source": [
    "\n",
    "\n",
    "from tensorflow.keras.preprocessing.image import ImageDataGenerator\n",
    "\n",
    "# All images will be rescaled by 1./255\n",
    "train_datagen = ImageDataGenerator(rescale=1./255)\n",
    "val_datagen = ImageDataGenerator(rescale=1./255)\n",
    "\n",
    "# Flow training images in batches of 20 using train_datagen generator\n",
    "train_generator = train_datagen.flow_from_directory(\n",
    "        train_dir,  # This is the source directory for training images\n",
    "        target_size=(150, 150),  # All images will be resized to 150x150\n",
    "        batch_size=20,\n",
    "        # Since we use binary_crossentropy loss, we need binary labels\n",
    "        class_mode='binary')\n",
    "\n",
    "# Flow validation images in batches of 20 using val_datagen generator\n",
    "validation_generator = val_datagen.flow_from_directory(\n",
    "        validation_dir,\n",
    "        target_size=(150, 150),\n",
    "        batch_size=20,\n",
    "        class_mode='binary')"
   ]
  },
  {
   "cell_type": "code",
   "execution_count": 11,
   "metadata": {
    "execution": {
     "iopub.execute_input": "2022-06-07T10:32:38.679128Z",
     "iopub.status.busy": "2022-06-07T10:32:38.678797Z",
     "iopub.status.idle": "2022-06-07T10:35:15.020494Z",
     "shell.execute_reply": "2022-06-07T10:35:15.019482Z",
     "shell.execute_reply.started": "2022-06-07T10:32:38.679091Z"
    }
   },
   "outputs": [],
   "source": [
    "history=model.fit(train_generator,\n",
    "epochs = 15,\n",
    "validation_data = validation_generator\n",
    ")"
   ]
  },
  {
   "cell_type": "code",
   "execution_count": 14,
   "metadata": {
    "execution": {
     "iopub.execute_input": "2022-06-07T10:35:15.538626Z",
     "iopub.status.busy": "2022-06-07T10:35:15.538326Z",
     "iopub.status.idle": "2022-06-07T10:35:15.716715Z",
     "shell.execute_reply": "2022-06-07T10:35:15.715991Z",
     "shell.execute_reply.started": "2022-06-07T10:35:15.538599Z"
    }
   },
   "outputs": [],
   "source": [
    "model.save('gender.h5')"
   ]
  }
 ],
 "metadata": {
  "kernelspec": {
   "display_name": "Python 3",
   "language": "python",
   "name": "python3"
  },
  "language_info": {
   "codemirror_mode": {
    "name": "ipython",
    "version": 3
   },
   "file_extension": ".py",
   "mimetype": "text/x-python",
   "name": "python",
   "nbconvert_exporter": "python",
   "pygments_lexer": "ipython3",
   "version": "3.7.0"
  }
 },
 "nbformat": 4,
 "nbformat_minor": 4
}
